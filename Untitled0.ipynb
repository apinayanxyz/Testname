{
  "nbformat": 4,
  "nbformat_minor": 0,
  "metadata": {
    "colab": {
      "provenance": [],
      "include_colab_link": true
    },
    "kernelspec": {
      "name": "python3",
      "display_name": "Python 3"
    },
    "language_info": {
      "name": "python"
    }
  },
  "cells": [
    {
      "cell_type": "markdown",
      "metadata": {
        "id": "view-in-github",
        "colab_type": "text"
      },
      "source": [
        "<a href=\"https://colab.research.google.com/github/apinayanxyz/Testname/blob/main/Untitled0.ipynb\" target=\"_parent\"><img src=\"https://colab.research.google.com/assets/colab-badge.svg\" alt=\"Open In Colab\"/></a>"
      ]
    },
    {
      "cell_type": "code",
      "execution_count": null,
      "metadata": {
        "id": "GNi4W5jTq48U",
        "colab": {
          "base_uri": "https://localhost:8080/"
        },
        "outputId": "df823e94-a181-46a6-a3a4-d3d93c80c4a0"
      },
      "outputs": [
        {
          "output_type": "stream",
          "name": "stdout",
          "text": [
            "Apinayan v2\n"
          ]
        }
      ],
      "source": [
        "\n",
        "print (\"Apinayan v2\")"
      ]
    },
    {
      "cell_type": "markdown",
      "source": [
        "Problem 14"
      ],
      "metadata": {
        "id": "pdEtEfqFyHlM"
      }
    },
    {
      "cell_type": "code",
      "source": [
        "print (2 < 3 and 3 > 1)\n",
        "print (2 < 3 or 3 > 1)\n",
        "print (2 < 3 or not 3 > 1)\n",
        "print (2 < 3 and not 3 > 1)"
      ],
      "metadata": {
        "colab": {
          "base_uri": "https://localhost:8080/"
        },
        "id": "aNdYANYIx5Rd",
        "outputId": "aa59c232-a27b-499f-8860-83ae8c48c51f"
      },
      "execution_count": null,
      "outputs": [
        {
          "output_type": "stream",
          "name": "stdout",
          "text": [
            "True\n",
            "True\n",
            "True\n",
            "False\n"
          ]
        }
      ]
    },
    {
      "cell_type": "markdown",
      "source": [
        "Problem 15"
      ],
      "metadata": {
        "id": "IGB9_lAhyPR8"
      }
    },
    {
      "cell_type": "code",
      "source": [
        "x = 4\n",
        "y = 5\n",
        "p = x < y or x < z\n",
        "print (p)"
      ],
      "metadata": {
        "colab": {
          "base_uri": "https://localhost:8080/"
        },
        "id": "lAtUhb8hyQ4e",
        "outputId": "9d4c11b7-8e98-4efd-ab4c-1437c3a8041b"
      },
      "execution_count": null,
      "outputs": [
        {
          "output_type": "stream",
          "name": "stdout",
          "text": [
            "True\n"
          ]
        }
      ]
    },
    {
      "cell_type": "markdown",
      "source": [
        "Problem 16"
      ],
      "metadata": {
        "id": "t2U_ee_EyjMz"
      }
    },
    {
      "cell_type": "code",
      "source": [
        "true, false = False, True\n",
        "print (true, false)\n",
        "print (2 < 3)\n"
      ],
      "metadata": {
        "colab": {
          "base_uri": "https://localhost:8080/"
        },
        "id": "78lAiCxYykqr",
        "outputId": "13bc232d-c063-48c5-aa68-630dd81817a3"
      },
      "execution_count": null,
      "outputs": [
        {
          "output_type": "stream",
          "name": "stdout",
          "text": [
            "False True\n",
            "True\n"
          ]
        }
      ]
    },
    {
      "cell_type": "code",
      "source": [
        "from ctypes import pythonapi\n",
        "x = \"hello\"\n",
        "f = x.upper\n",
        "print (f())\n",
        "\n",
        "def count_digits (x) :\n",
        "  return print(len(str(x)))\n",
        "\n",
        "count_digits(5)\n",
        "count_digits(12345)\n",
        "\n",
        "import time\n",
        "time.asctime()\n",
        "\n"
      ],
      "metadata": {
        "colab": {
          "base_uri": "https://localhost:8080/"
        },
        "id": "1H2F-Sd5uZhY",
        "outputId": "10ea7066-546c-4d87-df89-c0dd050add20"
      },
      "execution_count": 20,
      "outputs": [
        {
          "output_type": "stream",
          "name": "stdout",
          "text": [
            "HELLO\n",
            "1\n",
            "5\n",
            "-f\n"
          ]
        }
      ]
    },
    {
      "cell_type": "code",
      "source": [
        "print ('Hello from Rayan')"
      ],
      "metadata": {
        "colab": {
          "base_uri": "https://localhost:8080/"
        },
        "id": "EAYhppKmvV8V",
        "outputId": "1b27a08c-d293-4116-91db-46ebc65d7452"
      },
      "execution_count": null,
      "outputs": [
        {
          "output_type": "stream",
          "name": "stdout",
          "text": [
            "Hello from Rayan\n"
          ]
        }
      ]
    }
  ]
}