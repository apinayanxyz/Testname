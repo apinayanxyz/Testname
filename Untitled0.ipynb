{
  "nbformat": 4,
  "nbformat_minor": 0,
  "metadata": {
    "colab": {
      "provenance": [],
      "include_colab_link": true
    },
    "kernelspec": {
      "name": "python3",
      "display_name": "Python 3"
    },
    "language_info": {
      "name": "python"
    }
  },
  "cells": [
    {
      "cell_type": "markdown",
      "metadata": {
        "id": "view-in-github",
        "colab_type": "text"
      },
      "source": [
        "<a href=\"https://colab.research.google.com/github/apinayanxyz/Testname/blob/main/Untitled0.ipynb\" target=\"_parent\"><img src=\"https://colab.research.google.com/assets/colab-badge.svg\" alt=\"Open In Colab\"/></a>"
      ]
    },
    {
      "cell_type": "code",
      "execution_count": null,
      "metadata": {
        "id": "GNi4W5jTq48U",
        "colab": {
          "base_uri": "https://localhost:8080/"
        },
        "outputId": "df823e94-a181-46a6-a3a4-d3d93c80c4a0"
      },
      "outputs": [
        {
          "output_type": "stream",
          "name": "stdout",
          "text": [
            "Apinayan v2\n"
          ]
        }
      ],
      "source": [
        "\n",
        "print (\"Apinayan v2\")"
      ]
    },
    {
      "cell_type": "code",
      "source": [
        "print (\"Hello v2\")"
      ],
      "metadata": {
        "colab": {
          "base_uri": "https://localhost:8080/"
        },
        "id": "1H2F-Sd5uZhY",
        "outputId": "a4fab10f-d46a-42ec-e3fb-68b59d6b8c12"
      },
      "execution_count": null,
      "outputs": [
        {
          "output_type": "stream",
          "name": "stdout",
          "text": [
            "Hello\n"
          ]
        }
      ]
    },
    {
      "cell_type": "code",
      "source": [
        "print ('Hello from Rayan')"
      ],
      "metadata": {
        "colab": {
          "base_uri": "https://localhost:8080/"
        },
        "id": "EAYhppKmvV8V",
        "outputId": "1b27a08c-d293-4116-91db-46ebc65d7452"
      },
      "execution_count": 1,
      "outputs": [
        {
          "output_type": "stream",
          "name": "stdout",
          "text": [
            "Hello from Rayan\n"
          ]
        }
      ]
    }
  ]
}