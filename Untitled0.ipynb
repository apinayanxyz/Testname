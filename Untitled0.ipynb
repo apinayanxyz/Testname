{
  "nbformat": 4,
  "nbformat_minor": 0,
  "metadata": {
    "colab": {
      "provenance": [],
      "include_colab_link": true
    },
    "kernelspec": {
      "name": "python3",
      "display_name": "Python 3"
    },
    "language_info": {
      "name": "python"
    }
  },
  "cells": [
    {
      "cell_type": "markdown",
      "metadata": {
        "id": "view-in-github",
        "colab_type": "text"
      },
      "source": [
        "<a href=\"https://colab.research.google.com/github/apinayanxyz/Testname/blob/main/Untitled0.ipynb\" target=\"_parent\"><img src=\"https://colab.research.google.com/assets/colab-badge.svg\" alt=\"Open In Colab\"/></a>"
      ]
    },
    {
      "cell_type": "code",
      "execution_count": null,
      "metadata": {
        "id": "GNi4W5jTq48U",
        "colab": {
          "base_uri": "https://localhost:8080/"
        },
        "outputId": "df823e94-a181-46a6-a3a4-d3d93c80c4a0"
      },
      "outputs": [
        {
          "output_type": "stream",
          "name": "stdout",
          "text": [
            "Apinayan v2\n"
          ]
        }
      ],
      "source": [
        "\n",
        "print (\"Apinayan v2\")"
      ]
    },
    {
      "cell_type": "code",
      "source": [
        "print (\"Hello v2\")"
      ],
      "metadata": {
        "colab": {
          "base_uri": "https://localhost:8080/"
        },
        "id": "1H2F-Sd5uZhY",
        "outputId": "a4fab10f-d46a-42ec-e3fb-68b59d6b8c12"
      },
      "execution_count": null,
      "outputs": [
        {
          "output_type": "stream",
          "name": "stdout",
          "text": [
            "Hello\n"
          ]
        }
      ]
    },
    {
      "cell_type": "code",
      "source": [
        "print ('Hello from Rayan')\n",
        "\n",
        "max(3, 4)"
      ],
      "metadata": {
        "colab": {
          "base_uri": "https://localhost:8080/"
        },
        "id": "EAYhppKmvV8V",
        "outputId": "993be17e-af4a-4190-c031-3dcb854ca1ed"
      },
      "execution_count": 5,
      "outputs": [
        {
          "output_type": "stream",
          "name": "stdout",
          "text": [
            "Hello from Rayan\n"
          ]
        },
        {
          "output_type": "execute_result",
          "data": {
            "text/plain": [
              "4"
            ]
          },
          "metadata": {},
          "execution_count": 5
        }
      ]
    },
    {
      "cell_type": "code",
      "source": [
        "def increment (x, amount=1):\n",
        "  return x + amount\n",
        "increment (10)"
      ],
      "metadata": {
        "colab": {
          "base_uri": "https://localhost:8080/"
        },
        "id": "sRnVDAMfzZfK",
        "outputId": "678908d4-aa6d-4ef7-fbdb-9dd4018a9000"
      },
      "execution_count": 8,
      "outputs": [
        {
          "output_type": "execute_result",
          "data": {
            "text/plain": [
              "16"
            ]
          },
          "metadata": {},
          "execution_count": 8
        }
      ]
    },
    {
      "cell_type": "code",
      "source": [
        "def increment (x, amount=3):\n",
        "  return x * amount\n",
        "increment (10)"
      ],
      "metadata": {
        "id": "KrjN3m0F0QiJ",
        "outputId": "8e8ebeb1-0531-499d-c7f7-630643aef8b0",
        "colab": {
          "base_uri": "https://localhost:8080/"
        }
      },
      "execution_count": 9,
      "outputs": [
        {
          "output_type": "execute_result",
          "data": {
            "text/plain": [
              "30"
            ]
          },
          "metadata": {},
          "execution_count": 9
        }
      ]
    },
    {
      "cell_type": "code",
      "source": [
        "len ('Helloworld')"
      ],
      "metadata": {
        "id": "5LOFhhaQ02B4",
        "outputId": "315dad6d-64e2-4cad-ed0b-03652f3a5224",
        "colab": {
          "base_uri": "https://localhost:8080/"
        }
      },
      "execution_count": 11,
      "outputs": [
        {
          "output_type": "execute_result",
          "data": {
            "text/plain": [
              "10"
            ]
          },
          "metadata": {},
          "execution_count": 11
        }
      ]
    },
    {
      "cell_type": "code",
      "source": [
        "x = 'hello'\n",
        "print (x.upper())"
      ],
      "metadata": {
        "id": "C6fZHh2m1myS",
        "outputId": "2e2c653e-91ba-46b1-b3ea-667b98c7e919",
        "colab": {
          "base_uri": "https://localhost:8080/"
        }
      },
      "execution_count": 16,
      "outputs": [
        {
          "output_type": "stream",
          "name": "stdout",
          "text": [
            "HELLO\n"
          ]
        }
      ]
    }
  ]
}